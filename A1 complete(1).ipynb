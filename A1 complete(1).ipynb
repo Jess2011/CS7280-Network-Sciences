{
 "cells": [
  {
   "cell_type": "markdown",
   "id": "ea82c66a",
   "metadata": {},
   "source": [
    "# Assignment 1: Getting Started with NetworkX\n",
    "## Summer 2024"
   ]
  },
  {
   "cell_type": "code",
   "execution_count": 1,
   "id": "f4354199",
   "metadata": {},
   "outputs": [],
   "source": [
    "import matplotlib.pyplot as plt\n",
    "import networkx as nx\n",
    "import seaborn as sns\n",
    "import numpy as np\n",
    "import scipy as sp\n",
    "from typing import Tuple, List, Dict, Union"
   ]
  },
  {
   "cell_type": "markdown",
   "id": "146b210a",
   "metadata": {},
   "source": [
    "## Part 1- Intro to NetworkX [20 points]\n",
    "***\n",
    "### Generating graphs with NetworkX \n",
    "### 1.1"
   ]
  },
  {
   "cell_type": "code",
   "execution_count": 2,
   "id": "233b6ca6",
   "metadata": {},
   "outputs": [
    {
     "data": {
      "image/png": "[encoded data removed]",
      "text/plain": [
       "<Figure size 640x480 with 1 Axes>"
      ]
     },
     "metadata": {},
     "output_type": "display_data"
    }
   ],
   "source": [
    "#Implement your code and show the visualization\n",
    "\n",
    "def practice_graphs() -> None:\n",
    "    \n",
    "    \"\"\"\n",
    "    Returns:\n",
    "    \n",
    "    Nothing, but draws the visualizations of the graphs.\n",
    "    \"\"\"\n",
    "    \n",
    "    # This line is a placeholder\n",
    "    G = nx.Graph()\n",
    "    G.add_node(\"0\")\n",
    "    G.add_node(\"1\")\n",
    "    G.add_node(\"2\")\n",
    "    G.add_node(\"3\")\n",
    "    G.add_node(\"4\")\n",
    "    G.add_node(\"5\")\n",
    "    G.add_node(\"6\")\n",
    "    G.add_node(\"7\")\n",
    "    G.add_node(\"8\")\n",
    "    G.add_edge(\"1\",\"2\")\n",
    "    G.add_edge(\"2\",\"3\")\n",
    "    G.add_edge(\"1\",\"3\")\n",
    "    G.add_edge(\"4\",\"5\")\n",
    "    G.add_edge(\"4\",\"6\")\n",
    "    G.add_edge(\"4\",\"7\")\n",
    "    G.add_edge(\"4\",\"8\")\n",
    "    pos = nx.spring_layout(G, k=0.5)\n",
    "    return nx.draw(G, with_labels=True)\n",
    "    \n",
    "practice_graphs()"
   ]
  },
  {
   "cell_type": "markdown",
   "id": "e3e50c10",
   "metadata": {},
   "source": [
    "### 1.2"
   ]
  },
  {
   "cell_type": "code",
   "execution_count": 3,
   "id": "33150248",
   "metadata": {},
   "outputs": [
    {
     "name": "stdout",
     "output_type": "stream",
     "text": [
      "Cycle Network:\n",
      "Number of nodes: 10\n",
      "Number of edges: 10\n",
      "Maximum degree: 2\n",
      "Average degree: 2.0000\n",
      "Leading eigenvalue: 2.00\n",
      "\n",
      "Clique Network:\n",
      "Number of nodes: 10\n",
      "Number of edges: 45\n",
      "Maximum degree: 9\n",
      "Average degree: 9.0000\n",
      "Leading eigenvalue: 9.00\n",
      "\n",
      "Star Network:\n",
      "Number of nodes: 10\n",
      "Number of edges: 9\n",
      "Maximum degree: 9\n",
      "Average degree: 1.8000\n",
      "Leading eigenvalue: 3.00\n"
     ]
    }
   ],
   "source": [
    "# Write a function that returns the 3 10-node toy networks from the assignment pdf\n",
    "\n",
    "def create_toy_graphs()-> Tuple[nx.Graph, nx.Graph, nx.Graph]:\n",
    "    \n",
    "    \"\"\"\n",
    "    \n",
    "    Returns:\n",
    "    cycle: a networkx graph object meeting the requirements of a cycle\n",
    "    clique: a networkx graph object meeting the requirements of a clique\n",
    "    star: a networkx graph object meeting the requirements of a star network\n",
    "    \n",
    "    \"\"\"\n",
    "    \n",
    "    #These lines are placeholders\n",
    "    cycle=nx.cycle_graph(10)\n",
    "    clique = nx.complete_graph(10)\n",
    "    star = nx.star_graph(9)\n",
    "    \n",
    "    return cycle, clique, star\n",
    "\n",
    "cycle,clique,star = create_toy_graphs()\n",
    "\n",
    "# Write a function that will return the leading eigenvalue of the adjacency matrix of a given network.\n",
    "\n",
    "def calculate_leading_eigenvalue(G) -> float:\n",
    "    \"\"\"\n",
    "    Inputs:\n",
    "    G: NetworkX graph object\n",
    "    \n",
    "    Returns:\n",
    "    eig (float): leading eigenvalue of the adjacency matrix \n",
    "    \n",
    "    \"\"\"\n",
    "    adjacency_matrix = nx.to_numpy_array(G)\n",
    "    eigenvalues,_ = np.linalg.eig(adjacency_matrix)\n",
    "    eig=max(eigenvalues)\n",
    "    \n",
    "    # This is a placeholder\n",
    "    #eig = 7280.00\n",
    "    \n",
    "    return eig\n",
    "cycle_eig = calculate_leading_eigenvalue(cycle)\n",
    "clique_eig = calculate_leading_eigenvalue(clique)\n",
    "star_eig = calculate_leading_eigenvalue(star)\n",
    "\n",
    "print(\"Cycle Network:\")\n",
    "print(f\"Number of nodes: {cycle.number_of_nodes()}\")\n",
    "print(f\"Number of edges: {cycle.number_of_edges()}\")\n",
    "print(f\"Maximum degree: {max(dict(nx.degree(cycle)).values())}\")\n",
    "print(f\"Average degree: {sum(dict(nx.degree(cycle)).values()) / cycle.number_of_nodes():.4f}\")\n",
    "print(f\"Leading eigenvalue: {cycle_eig:.2f}\")\n",
    "print()\n",
    "print(\"Clique Network:\")\n",
    "print(f\"Number of nodes: {clique.number_of_nodes()}\")\n",
    "print(f\"Number of edges: {clique.number_of_edges()}\")\n",
    "print(f\"Maximum degree: {max(dict(nx.degree(clique)).values())}\")\n",
    "print(f\"Average degree: {sum(dict(nx.degree(clique)).values()) / clique.number_of_nodes():.4f}\")\n",
    "print(f\"Leading eigenvalue: {clique_eig:.2f}\")\n",
    "print()\n",
    "print(\"Star Network:\")\n",
    "print(f\"Number of nodes: {star.number_of_nodes()}\")\n",
    "print(f\"Number of edges: {star.number_of_edges()}\")\n",
    "print(f\"Maximum degree: {max(dict(nx.degree(star)).values())}\")\n",
    "print(f\"Average degree: {sum(dict(nx.degree(star)).values()) / star.number_of_nodes():.4f}\")\n",
    "print(f\"Leading eigenvalue: {star_eig:.2f}\")\n"
   ]
  },
  {
   "cell_type": "markdown",
   "id": "d333c846",
   "metadata": {},
   "source": [
    "What is the relationship between the eigenvalue of the adjacency matrix, the maximum degree, and average degree of each network?"
   ]
  },
  {
   "cell_type": "markdown",
   "id": "31356567",
   "metadata": {},
   "source": [
    "For the cycle and clique networks, the leading eigenvalue of the adjacency matrix is equal to the maximum degree and the average degree of the network.\n",
    "For the star network, the leading eigenvalue is equal to the maximum degree of the central node, but it is not equal to the average degree of the network."
   ]
  },
  {
   "cell_type": "markdown",
   "id": "54e929f1",
   "metadata": {},
   "source": [
    "### Importing Map Data \n",
    "### 1.3"
   ]
  },
  {
   "cell_type": "code",
   "execution_count": 4,
   "id": "fdb21f2d",
   "metadata": {},
   "outputs": [],
   "source": [
    "# write a function to load cities_data.graphml using built in NetworkX methods\n",
    "def load_cities_data() -> nx.Graph:\n",
    "    \"\"\"\n",
    "    Returns:\n",
    "    G: NetworkX Graph object\n",
    "    \"\"\"\n",
    "    \n",
    "    # this is a placeholder, load the city data into a graph, G\n",
    "    G = nx.read_graphml(\"cities_data.graphml\")\n",
    "    \n",
    "    return G\n",
    "\n",
    "# find the number of nodes in the graph\n",
    "def find_number_of_nodes(G) -> int:\n",
    "    \"\"\"\n",
    "    Input:\n",
    "    G: NetworkX Graph object\n",
    "    \n",
    "    Output:\n",
    "    num_nodes (int): number of nodes in G\n",
    "    \"\"\"\n",
    "    \n",
    "    # this is a placeholder, find the number of nodes in G\n",
    "    num_nodes = G.number_of_nodes()\n",
    "\n",
    "    return num_nodes\n",
    "\n",
    "# find the number of edges in the graph\n",
    "def find_number_of_edges(G) -> int:\n",
    "    \"\"\"\n",
    "    Input:\n",
    "    G: NetworkX Graph object\n",
    "    \n",
    "    Output:\n",
    "    num_edges (int): number of edges in G\n",
    "    \"\"\"\n",
    "    \n",
    "    # this is a placeholder, find the number of edges in G\n",
    "    num_edges =G.number_of_edges()\n",
    "\n",
    "    return num_edges\n",
    "\n",
    "\n",
    "# find the number of city pairs that are less than 50 miles apart\n",
    "def cities_within_50(G) -> int:\n",
    "    \"\"\"\n",
    "    Input:\n",
    "    G: NetworkX Graph object\n",
    "    \n",
    "    Output:\n",
    "    num_cities: number of city pairs that are less than 50 miles apart\n",
    "    \"\"\"\n",
    "    \n",
    "    # this is a placeholder\n",
    "    # find the number of pairs of cities that are < 50 miles apart\n",
    "    num_cities = 0\n",
    "    for u,v,data in G.edges(data=True):\n",
    "        if data['weight']<50:\n",
    "            num_cities += 1\n",
    "\n",
    "    return num_cities"
   ]
  },
  {
   "cell_type": "markdown",
   "id": "6164fd71",
   "metadata": {},
   "source": [
    "a How many nodes are there? 128\n",
    "b. How many edges? 8128\n",
    "c. How many pairs of cities are less than 50 miles apart? 8"
   ]
  },
  {
   "cell_type": "markdown",
   "id": "780947fd",
   "metadata": {},
   "source": [
    "### 1.4"
   ]
  },
  {
   "cell_type": "code",
   "execution_count": 5,
   "id": "77d41614",
   "metadata": {},
   "outputs": [],
   "source": [
    "# Implement your code and show the visualization of Question 4\n",
    "def cities_within_100(G, city_list) -> nx.Graph:\n",
    "    '''\n",
    "    Input\n",
    "    G: NetworkX graph object\n",
    "    city_list: list of strings (names of cities in G)\n",
    "\n",
    "    Output\n",
    "    S: NetworX graph object (subgraph of G that only contains edges between cities in “city_list” and directly neighboring cities that are less than 100 miles away)\n",
    "    '''\n",
    "        \n",
    "    # This is a placeholder\n",
    "    S = nx.Graph()\n",
    "    S.add_nodes_from(city_list)\n",
    "    for city in city_list:\n",
    "        neighbouring_cities=G[city]\n",
    "        for neighbour in neighbouring_cities:\n",
    "            distance=G[city][neighbour]['weight']\n",
    "            if distance <100:\n",
    "                S.add_edge(city,neighbour,weight=distance)\n",
    "    return S"
   ]
  },
  {
   "cell_type": "code",
   "execution_count": 6,
   "id": "2a02a779",
   "metadata": {},
   "outputs": [
    {
     "data": {
      "image/png": "[encoded data removed]",
      "text/plain": [
       "<Figure size 640x480 with 1 Axes>"
      ]
     },
     "metadata": {},
     "output_type": "display_data"
    },
    {
     "name": "stdout",
     "output_type": "stream",
     "text": [
      "leading eigenvalue for cycle graph 2.0\n",
      "leading eigenvalue for clique graph 8.999999999999998\n",
      "leading eigenvalue for star graph 2.9999999999999996\n",
      "number of nodes in cities_data: 128\n",
      "number of edges in cities_data: 8128\n",
      "number of city pairs within 50 miles: 8\n"
     ]
    },
    {
     "data": {
      "image/png": "[encoded data removed]",
      "text/plain": [
       "<Figure size 640x480 with 1 Axes>"
      ]
     },
     "metadata": {},
     "output_type": "display_data"
    }
   ],
   "source": [
    "# This cell is used to output your data. Do not modify it.\n",
    "\n",
    "# 1.1 practice drawing a graph\n",
    "practice_graphs()\n",
    "plt.show()\n",
    "\n",
    "# 1.2 practice using graph generators and find max eigenvavlue\n",
    "G_cycle, G_clique, G_star = create_toy_graphs()\n",
    "\n",
    "print(\"leading eigenvalue for cycle graph\", calculate_leading_eigenvalue(G_cycle))\n",
    "print(\"leading eigenvalue for clique graph\", calculate_leading_eigenvalue(G_clique))\n",
    "print(\"leading eigenvalue for star graph\", calculate_leading_eigenvalue(G_star))\n",
    "\n",
    "# 1.3 load city data and gather some data\n",
    "G_cities = load_cities_data()\n",
    "print(\"number of nodes in cities_data:\", find_number_of_nodes(G_cities))\n",
    "print(\"number of edges in cities_data:\", find_number_of_edges(G_cities))\n",
    "print(\"number of city pairs within 50 miles:\", cities_within_50(G_cities))\n",
    "\n",
    "# 1.4 find cities within 100 miles\n",
    "S = cities_within_100(G_cities, [ \"Toledo, OH\", \"Stockton, CA\", \"San Francisco, CA\" ])\n",
    "nx.draw(S, with_labels=True,  pos=nx.spring_layout(S,  k=3))\n",
    "plt.show()"
   ]
  },
  {
   "cell_type": "markdown",
   "id": "7f36a0ad",
   "metadata": {},
   "source": [
    "### Part 2 - Random Walks of Les Misérables [20 points]\n",
    "### 2.1"
   ]
  },
  {
   "cell_type": "code",
   "execution_count": 7,
   "id": "3112c100",
   "metadata": {},
   "outputs": [],
   "source": [
    "# write a function to load lesmis_data.gml using built in NetworkX methods\n",
    "def load_lesmis_data() -> nx.Graph:\n",
    "    \"\"\"\n",
    "    Returns:\n",
    "    G: NetworkX Graph object\n",
    "    \"\"\"\n",
    "    \n",
    "    # this is a placeholder, load the lesmis data into a graph, G\n",
    "    G = nx.read_gml(\"lesmis_data.gml\")\n",
    "    \n",
    "    return G"
   ]
  },
  {
   "cell_type": "markdown",
   "id": "19f80803",
   "metadata": {},
   "source": [
    "\n",
    "### 2.2"
   ]
  },
  {
   "cell_type": "code",
   "execution_count": 8,
   "id": "c6d68c43",
   "metadata": {},
   "outputs": [],
   "source": [
    "# Write a function that will return if the graph connected or unconnected.\n",
    "def lesmis_connected(G) -> bool:\n",
    "    \"\"\"\n",
    "    Input\n",
    "    G: NetworkX graph object\n",
    "    \n",
    "    Returns:\n",
    "    les_mis_connected (Boolean): whether the graph is connected or not\n",
    "    \n",
    "    \"\"\"\n",
    "\n",
    "    \n",
    "    # These lines are placeholders. Use NetworkX to determine if the graph is connected.\n",
    "    les_mis_connected = nx.is_connected(G)\n",
    "    \n",
    "    return les_mis_connected"
   ]
  },
  {
   "cell_type": "markdown",
   "id": "1ca39c5a",
   "metadata": {},
   "source": [
    "### 2.3"
   ]
  },
  {
   "cell_type": "code",
   "execution_count": 9,
   "id": "12cf99b9",
   "metadata": {},
   "outputs": [],
   "source": [
    "# calculate the shortest path length between each pair of nodes in the graph.\n",
    "def calculate_shortest_paths(G) -> List:\n",
    "    \"\"\"\n",
    "    Inputs\n",
    "    G: NetworkX graph object\n",
    "\n",
    "    Returns:\n",
    "    shortest_paths (list): list of shortest paths between each pair of nodes in the graph.\n",
    "\n",
    "    NOTE: \n",
    "    You may use any structure you'd like to store the shortest paths. The list return above is merely a suggestion.\n",
    "    It can be a list of path lengths, a dictionary with node pairs as keys and path lengths as values, etc.\n",
    "    \"\"\"\n",
    "    # These lines are placeholders\n",
    "    # You may use any structure you'd like to store the shortest paths.\n",
    "    # It can be a list of path lengths, a dictionary with node pairs as keys and path lengths as values, etc.\n",
    "    shortest_paths = []\n",
    "    for source in G.nodes:\n",
    "        for target in G.nodes:\n",
    "            if source != target:\n",
    "                shortest_paths.append(nx.shortest_path_length(G,source,target))\n",
    "    \n",
    "    return shortest_paths\n",
    "\n",
    "# plot the distribution of shortest paths using a histogram or barplot.\n",
    "def plot_shortest_paths(G) -> None:\n",
    "    \"\"\"\n",
    "    Inputs\n",
    "    G: NetworkX graph object\n",
    "\n",
    "    Returns:\n",
    "    Nothing\n",
    "    \"\"\"\n",
    "    # Create a plot of the distribution of shortest paths.\n",
    "    # you may use the calculate_shortest_paths fuction to help.\n",
    "   \n",
    "    shortest_paths = calculate_shortest_paths(G)\n",
    "    plt.hist(shortest_paths,bins=\"auto\")\n",
    "    plt.title('Distribution of Shortest Path Lengths')\n",
    "    plt.xlabel('Shortest Path Length')\n",
    "    plt.ylabel('Frequency')\n",
    "    plt.show()\n",
    "\n",
    "# find the average shortest path length of the graph.\n",
    "def average_shortest_path(G) -> float:\n",
    "    \"\"\"\n",
    "    Inputs\n",
    "    G: NetworkX graph object\n",
    "\n",
    "    Returns:\n",
    "    aspl (float): average shortest path length of the graph\n",
    "    \"\"\"\n",
    "    # This line is a placeholder\n",
    "    # You may use the calculate_shortest_paths fuction to help.\n",
    "    shortest_paths = calculate_shortest_paths(G)\n",
    "    aspl = sum(shortest_paths)/len(shortest_paths)\n",
    "    \n",
    "    return aspl\n",
    "\n",
    "# find the maximum shortest path length of the graph.\n",
    "def maximum_shortest_path(G) -> int:\n",
    "    \"\"\"\n",
    "    Inputs\n",
    "    G: NetworkX graph object\n",
    "\n",
    "    Returns:\n",
    "    mspl (int): maximum shortest path length of the graph\n",
    "    \"\"\"\n",
    "    # This line is a placeholder\n",
    "    # You may use the calculate_shortest_paths fuction to help.\n",
    "    shortest_paths = calculate_shortest_paths(G)\n",
    "    mspl = max(shortest_paths)\n",
    "    \n",
    "    return mspl"
   ]
  },
  {
   "cell_type": "markdown",
   "id": "d71f3e64",
   "metadata": {},
   "source": [
    "\n",
    "### 2.4"
   ]
  },
  {
   "cell_type": "code",
   "execution_count": 10,
   "id": "dad50407",
   "metadata": {},
   "outputs": [],
   "source": [
    "# Implement a function that will calculate the stationary distribution to find the 3 most commonly mentioned characters in the novel.\n",
    "def popular_characters(G) -> List[str]:\n",
    "    \n",
    "    \"\"\"\n",
    "    Inputs:\n",
    "    G: NetworkX graph object\n",
    "    \n",
    "    Returns:\n",
    "    top_3: List[str]: a list of the string names of the 3 most commonly mentioned characters in the novel\n",
    "    \n",
    "    \"\"\"\n",
    "    \n",
    "    # This line is a placeholder\n",
    "    \n",
    "    pagerank_dict = nx.pagerank(G)\n",
    "    top_3 = sorted(pagerank_dict,key=pagerank_dict.get,reverse=True)[:3]\n",
    "    \n",
    "    return top_3\n"
   ]
  },
  {
   "cell_type": "code",
   "execution_count": null,
   "id": "81552411",
   "metadata": {},
   "outputs": [],
   "source": []
  },
  {
   "cell_type": "code",
   "execution_count": 11,
   "id": "e1051162",
   "metadata": {},
   "outputs": [
    {
     "name": "stdout",
     "output_type": "stream",
     "text": [
      "is this graph connected? True\n",
      "What is the average shortest path length? 2.6411483253588517\n",
      "What is the maximum shortest path length? 5\n",
      "What 3 characters are most commonly mentioned characters? ['Valjean', 'Myriel', 'Gavroche']\n"
     ]
    },
    {
     "data": {
      "image/png": "[encoded data removed]",
      "text/plain": [
       "<Figure size 640x480 with 1 Axes>"
      ]
     },
     "metadata": {},
     "output_type": "display_data"
    }
   ],
   "source": [
    "# This cell is used to output your data. Do not modify it.\n",
    "\n",
    "# 2.1\n",
    "G_lesmis = load_lesmis_data()\n",
    "\n",
    "# 2.2\n",
    "print(\"is this graph connected?\", lesmis_connected(G_lesmis))\n",
    "\n",
    "# 2.3\n",
    "print(\"What is the average shortest path length?\", average_shortest_path(G_lesmis))\n",
    "print(\"What is the maximum shortest path length?\", maximum_shortest_path(G_lesmis))\n",
    "\n",
    "# 2.4\n",
    "print(\"What 3 characters are most commonly mentioned characters?\", popular_characters(G_lesmis))\n",
    "\n",
    "# plots\n",
    "plot_shortest_paths(G_lesmis)"
   ]
  },
  {
   "cell_type": "markdown",
   "id": "a5a9da19",
   "metadata": {},
   "source": [
    "### Part 3 - Components of Drosophila Optic Medulla [20 points]"
   ]
  },
  {
   "cell_type": "markdown",
   "id": "d516bf5b",
   "metadata": {},
   "source": [
    "### 3.1"
   ]
  },
  {
   "cell_type": "code",
   "execution_count": 12,
   "id": "7680ea72",
   "metadata": {},
   "outputs": [],
   "source": [
    "# write a function to load drosophila_medulla_data.graphml using built in NetworkX methods\n",
    "def load_drosophila_medulla_data() -> nx.Graph:\n",
    "    \"\"\"\n",
    "    Returns:\n",
    "    G: NetworkX Graph object\n",
    "    \"\"\"\n",
    "    \n",
    "    # this is a placeholder, load the drosophila_medulla data into a graph, G\n",
    "    G = nx.read_graphml(\"drosophila_medulla_data.graphml\")\n",
    "                           \n",
    "    return G"
   ]
  },
  {
   "cell_type": "markdown",
   "id": "aec29815",
   "metadata": {},
   "source": [
    "### 3.2"
   ]
  },
  {
   "cell_type": "code",
   "execution_count": 13,
   "id": "241f5303",
   "metadata": {},
   "outputs": [],
   "source": [
    "# Write a function to find the weakly connected components of this network, and return how many there are and what percentage of the nodes are in the largest weakly connected component.\n",
    "def weakly_connected(G) -> Tuple[int, float]:\n",
    "    \"\"\"\n",
    "    Inputs\n",
    "    G: NetworkX graph object\n",
    "    \n",
    "    Returns:\n",
    "    wccs (int): number of weakly connected components in the graph\n",
    "    wpct (float): percent of nodes in the graph that belong to the largest weakly connected component\n",
    "    \n",
    "    \"\"\"\n",
    "    wccs = nx.number_weakly_connected_components(G)\n",
    "    lwcc = max(nx.weakly_connected_components(G),key=len)\n",
    "\n",
    "    wpct = (len(lwcc)/G.number_of_nodes())*100\n",
    "    \n",
    "    return wccs, round(wpct,2)\n"
   ]
  },
  {
   "cell_type": "markdown",
   "id": "bd30afca",
   "metadata": {},
   "source": [
    "### 3.3"
   ]
  },
  {
   "cell_type": "code",
   "execution_count": 14,
   "id": "3610b5d2",
   "metadata": {},
   "outputs": [],
   "source": [
    "# Write a function to find the strongly connected components of this network, and return how many there are and what percentage of the nodes are in the largest strongly connected component\n",
    "\n",
    "def strongly_connected(G) -> Tuple[int, float]:\n",
    "    \"\"\"\n",
    "    Inputs\n",
    "    G: NetworkX graph object\n",
    "    \n",
    "    Returns:\n",
    "    sccs (int): number of strongly connected components in the graph\n",
    "    spct (float): percent of nodes in the graph that belong to the largest strongly connected component\n",
    "    \n",
    "    \"\"\"\n",
    "    \n",
    "    #These lines are placeholders\n",
    "    sccs = nx.number_strongly_connected_components(G)\n",
    "    lsccs = max(nx.strongly_connected_components(G),key=len)\n",
    "    spct = (len(lsccs)/G.number_of_nodes())*100\n",
    "    \n",
    "    return sccs, round(spct,2)\n",
    "    "
   ]
  },
  {
   "cell_type": "markdown",
   "id": "cf4db3a3",
   "metadata": {},
   "source": [
    "### 3.4"
   ]
  },
  {
   "cell_type": "code",
   "execution_count": 15,
   "id": "124286b9",
   "metadata": {},
   "outputs": [],
   "source": [
    "# Calculate the average shortest path length and maximum shortest path length of the largest strongly connected component\n",
    "\n",
    "def scc_shortest_paths(G) -> List:\n",
    "    \"\"\"\n",
    "    Inputs\n",
    "    G: NetworkX graph object\n",
    "    \n",
    "    Returns:\n",
    "    shortest_paths (list): list of shortest paths between each pair of nodes in the graph.\n",
    "\n",
    "    NOTE: \n",
    "    You may use any structure you'd like to store the shortest paths. The list return above is merely a suggestion.\n",
    "    It can be a list of path lengths, a dictionary with node pairs as keys and path lengths as values, etc.\n",
    "    \n",
    "    \"\"\"\n",
    "    \n",
    "    # These lines are placeholders\n",
    "    # You may use any structure you like to store shortest paths.\n",
    "    shortest_paths = []\n",
    "    lscc = max(nx.strongly_connected_components(G),key=len)\n",
    "    lscc_graph=G.subgraph(lscc)\n",
    "    spl=nx.all_pairs_shortest_path_length(lscc_graph)\n",
    "    for _,lengths in spl:\n",
    "        shortest_paths.extend(list(lengths.values()))\n",
    "    return shortest_paths\n",
    "\n",
    "# plot the distribution of shortest paths for the scc using a histogram or barplot.\n",
    "def plot_scc_shortest_paths(shortest_paths) -> None:\n",
    "    \"\"\"\n",
    "    Inputs\n",
    "    shortest_paths (list): list of shortest paths between each pair of nodes in the graph.\n",
    "\n",
    "    Returns:\n",
    "    Nothing\n",
    "    \"\"\"\n",
    "    # Create a plot of the distribution of shortest paths.\n",
    "    # you may use the scc_shortest_paths fuction to help.\n",
    "    plt.hist(shortest_paths,bins='auto',edgecolor='blue')\n",
    "    plt.title(\"Distribution of Shortest Paths\")\n",
    "    plt.xlabel(\"Shortest Paths\")\n",
    "    plt.ylabel(\"Frequency\")\n",
    "    plt.show()\n",
    "\n",
    "# find the average shortest path length of the scc.\n",
    "def average_scc_shortest_path(shortest_paths) -> float:\n",
    "    \"\"\"\n",
    "    Inputs\n",
    "    shortest_paths (list): list of shortest paths between each pair of nodes in the graph.\n",
    "\n",
    "    Returns:\n",
    "    aspl (float): average shortest path length of the graph\n",
    "    \"\"\"\n",
    "    # This line is a placeholder\n",
    "    # You may use the calculate_shortest_paths fuction to help.\n",
    "\n",
    "    aspl = sum(shortest_paths)/len(shortest_paths)\n",
    "    \n",
    "    return aspl\n",
    "\n",
    "# find the maximum shortest path length of the scc.\n",
    "def maximum_scc_shortest_path(shortest_paths) -> int:\n",
    "    \"\"\"\n",
    "    Inputs\n",
    "    shortest_paths (list): list of shortest paths between each pair of nodes in the graph.\n",
    "\n",
    "    Returns:\n",
    "    mspl (int): maximum shortest path length of the graph\n",
    "    \"\"\"\n",
    "    # This line is a placeholder\n",
    "    # You may use the calculate_shortest_paths fuction to help.\n",
    "    mspl = max(shortest_paths)\n",
    "    \n",
    "    return mspl"
   ]
  },
  {
   "cell_type": "code",
   "execution_count": 16,
   "id": "9b0516f2",
   "metadata": {},
   "outputs": [
    {
     "name": "stdout",
     "output_type": "stream",
     "text": [
      "How many weakly connected components are there? 6\n",
      "What percent of nodes belong to the largest weakly connected component 99.38\n",
      "How many strongly connected components are there? 996\n",
      "What percent of nodes belong to the largest strongly connected component 44.08\n",
      "What is the average shortest path length of the SCC 3.66493082883687\n",
      "What is the maximum shortest path length of the SCC 10\n"
     ]
    },
    {
     "data": {
      "image/png": "[encoded data removed]",
      "text/plain": [
       "<Figure size 640x480 with 1 Axes>"
      ]
     },
     "metadata": {},
     "output_type": "display_data"
    }
   ],
   "source": [
    "# This cell is used to output your data. Do not modify it.\n",
    "\n",
    "# 3.1\n",
    "G_dm = load_drosophila_medulla_data()\n",
    "\n",
    "# 3.2\n",
    "wccs, wpct = weakly_connected(G_dm)\n",
    "print(\"How many weakly connected components are there?\", wccs)\n",
    "print(\"What percent of nodes belong to the largest weakly connected component\", wpct)\n",
    "\n",
    "# 3.3\n",
    "sccs, spct = strongly_connected(G_dm)\n",
    "print(\"How many strongly connected components are there?\", sccs)\n",
    "print(\"What percent of nodes belong to the largest strongly connected component\", spct)\n",
    "\n",
    "# 3.4\n",
    "shortest_paths = scc_shortest_paths(G_dm)\n",
    "print(\"What is the average shortest path length of the SCC\", average_scc_shortest_path(shortest_paths))\n",
    "print(\"What is the maximum shortest path length of the SCC\", maximum_scc_shortest_path(shortest_paths))\n",
    "\n",
    "# plots\n",
    "plot_scc_shortest_paths(shortest_paths)"
   ]
  },
  {
   "cell_type": "markdown",
   "id": "2cd28c31",
   "metadata": {},
   "source": [
    "Comparing with the distribution of shortest paths, the average shortest path length in part 3 is slightly higher, and\n",
    "the frequency is much higher.Therefore,while the network appears highly connected and robust when considering WCCs, it becomes significantly more fragmented when directionality is taken into account, as seen in the number of SCCs and the proportion of nodes in the largest SCC. This indicates the importance of directionality in the network's structure and functionality.\n"
   ]
  },
  {
   "cell_type": "markdown",
   "id": "6310076b",
   "metadata": {},
   "source": [
    "\n"
   ]
  },
  {
   "cell_type": "markdown",
   "id": "3c7f89f3",
   "metadata": {},
   "source": [
    "### Part 4 - Topologically Ordered Languages [20 points]\n",
    "### 4.1"
   ]
  },
  {
   "cell_type": "code",
   "execution_count": 17,
   "id": "b556ad8b",
   "metadata": {},
   "outputs": [],
   "source": [
    "# write a function to load language_data.txt using built in NetworkX methods\n",
    "from networkx.algorithms import bipartite\n",
    "def load_language_data() -> nx.Graph:\n",
    "    \"\"\"\n",
    "    Returns:\n",
    "    G: NetworkX Graph object\n",
    "    \"\"\"\n",
    "    \n",
    "    # this is a placeholder, load the language data into a graph, G\n",
    "    \n",
    "    #G = nx.read_edgelist(\"language_data.txt\",create_using=nx.DiGraph(),nodetype= str,delimiter='/t')\n",
    "    \n",
    "    G = nx.DiGraph()\n",
    "    with open(\"language_data.txt\", \"r\") as file:\n",
    "        for line in file:\n",
    "            languages = line.strip().split()\n",
    "            G.add_edge(languages[1], languages[0])\n",
    "    \n",
    "    return G"
   ]
  },
  {
   "cell_type": "markdown",
   "id": "ce40b240",
   "metadata": {},
   "source": [
    "### 4.2"
   ]
  },
  {
   "cell_type": "code",
   "execution_count": 18,
   "id": "f33294ae",
   "metadata": {},
   "outputs": [],
   "source": [
    "# Write a function that will determine if a graph is a DAG or not\n",
    "\n",
    "def is_graph_dag(G) -> bool:\n",
    "    \"\"\"\n",
    "    Input:\n",
    "    G: NetworkX graph object\n",
    "    \n",
    "    Returns:\n",
    "    is_dag (Boolean): is the graph directed or not\n",
    "    \"\"\"\n",
    "    \n",
    "    # This is a placeholder\n",
    "    is_dag = nx.is_directed_acyclic_graph(G)\n",
    "\n",
    "    \n",
    "    return is_dag\n",
    "\n"
   ]
  },
  {
   "cell_type": "markdown",
   "id": "b9b7fe46",
   "metadata": {},
   "source": [
    "\n",
    "### 4.3"
   ]
  },
  {
   "cell_type": "code",
   "execution_count": 19,
   "id": "c82691a0",
   "metadata": {},
   "outputs": [],
   "source": [
    "# Implement a function that will remove the first edge of each cycle\n",
    "\n",
    "def remove_cycles(G) -> nx.Graph:\n",
    "    \"\"\"\n",
    "    Input:\n",
    "    G: NetworkX graph object\n",
    "    \n",
    "    Returns:\n",
    "    G2: NetworkX graph object with cycles removed \n",
    "    \n",
    "    \"\"\"\n",
    "    #This is placeholder\n",
    "    G2 = G.copy()\n",
    "    cycles = list(nx.simple_cycles(G))\n",
    "    for cycle in cycles:\n",
    "        first_edge = (cycle[-1],cycle[0])\n",
    "        G2.remove_edge(*first_edge)\n",
    "    \n",
    "    return G2"
   ]
  },
  {
   "cell_type": "markdown",
   "id": "bf9575a9",
   "metadata": {},
   "source": [
    "\n",
    "### 4.4"
   ]
  },
  {
   "cell_type": "code",
   "execution_count": 20,
   "id": "19ca636e",
   "metadata": {},
   "outputs": [],
   "source": [
    "# Write a function that returns the number of sources and the highest influencing node\n",
    "\n",
    "def get_sources(G) -> Tuple[int, str]:\n",
    "    \"\"\"\n",
    "    Inputs:\n",
    "    G: NetworkX graph object\n",
    "    \n",
    "    Returns:\n",
    "    num_sources (int): number of source nodes\n",
    "    top_source (str): the name of the node with the highest level of influence\n",
    "    \"\"\"\n",
    "    \n",
    "    influence = nx.degree_centrality(G)\n",
    "    \n",
    "    sources = [node for node in G.nodes() if G.in_degree(node)==0]\n",
    "    #top_source = max(sources,key=sources.get)\n",
    "    num_sources = len(sources)\n",
    "    descendants_count={node:len(nx.descendants(G,node)) for node in sources}\n",
    "    top_source = max(descendants_count,key=descendants_count.get)\n",
    "    \n",
    "    return num_sources, top_source"
   ]
  },
  {
   "cell_type": "code",
   "execution_count": 21,
   "id": "e843eda7",
   "metadata": {},
   "outputs": [
    {
     "name": "stdout",
     "output_type": "stream",
     "text": [
      "Is this graph a DAG? False\n",
      "Is this graph a DAG after modification? True\n",
      "There are 48 sources in the graph, and the source with the highest influence is speedcoding.\n"
     ]
    }
   ],
   "source": [
    "# This cell is used to output your data. Do not modify it.\n",
    "\n",
    "# 4.1\n",
    "G_lang = load_language_data()\n",
    "\n",
    "# 4.2\n",
    "print(\"Is this graph a DAG?\", is_graph_dag(G_lang))\n",
    "\n",
    "# 4.3\n",
    "print(\"Is this graph a DAG after modification?\", is_graph_dag(remove_cycles(G_lang)))\n",
    "\n",
    "# 4.4\n",
    "num_sources, top_source = get_sources(G_lang)\n",
    "print(\"There are {} sources in the graph, and the source with the highest influence is {}.\".format(num_sources, top_source))"
   ]
  },
  {
   "cell_type": "markdown",
   "id": "6f58f60f",
   "metadata": {},
   "source": [
    " \n"
   ]
  },
  {
   "cell_type": "markdown",
   "id": "e1635792",
   "metadata": {},
   "source": [
    "### Part 5 - Bipartite Projects of Github\n",
    "### 5.1"
   ]
  },
  {
   "cell_type": "code",
   "execution_count": 22,
   "id": "7deebc05",
   "metadata": {},
   "outputs": [],
   "source": [
    "# Write a function that will read in the github text file and return it as a NetworkX graph\n",
    "\n",
    "def load_github_data() -> Tuple[nx.Graph, List[str], List[str]]:\n",
    "    \"\"\"\n",
    "    Returns:\n",
    "    G: NetworkX graph object\n",
    "    uid_list (list): list of users\n",
    "    pid_list (list): list of projects\n",
    "    \n",
    "    \"\"\"\n",
    "    G = nx.Graph()\n",
    "    uid_list=set()\n",
    "    pid_list=set()\n",
    "    with open('github_data.txt', 'r') as file:\n",
    "        for line in file:\n",
    "            user_id, project_id = line.split()\n",
    "            user_id = int(user_id)\n",
    "            project_id = int(project_id)\n",
    "\n",
    "            G.add_node(user_id, bipartite=0)  \n",
    "            G.add_node(project_id, bipartite=1)  \n",
    "            G.add_edge(user_id, project_id)\n",
    "            uid_list.add(user_id)\n",
    "            pid_list.add(project_id)\n",
    "    \n",
    "\n",
    "    # NOTE: We are also returning a list of users and projects. This will be helpful\n",
    "    # when getting the correct user and project indicies from the projections.\n",
    "        uid_list =sorted(list(uid_list))\n",
    "        pid_list= sorted(list(pid_list))\n",
    "    \n",
    "    return G, uid_list, pid_list\n",
    "    \n",
    "    \n",
    "    "
   ]
  },
  {
   "cell_type": "markdown",
   "id": "f9c5511f",
   "metadata": {},
   "source": [
    "### 5.2"
   ]
  },
  {
   "cell_type": "code",
   "execution_count": 23,
   "id": "6bb43d48",
   "metadata": {},
   "outputs": [],
   "source": [
    "# Create a function to create the User-Project Matrix \n",
    "\n",
    "def calculate_projections(G, uid_list, pid_list) -> Tuple[sp.sparse.spmatrix, sp.sparse.spmatrix]:\n",
    "    \"\"\"\n",
    "    Inputs:\n",
    "    G: NetworkX graph object\n",
    "    uid_list (list): list of users\n",
    "    pid_list (list): list of projects\n",
    "    \n",
    "    Returns:\n",
    "    user_matrix (sp.sparse.spmatrix): one mode projection for users\n",
    "    project_matrix (sp.sparse.spmatrix): one mode projection for projects\n",
    "    \"\"\"\n",
    "   \n",
    "    \"\"\"\n",
    "    users_projection = np.array([0,0])\n",
    "    projects_projection = np.array([0,0])\n",
    "    \"\"\"\n",
    "    \n",
    "    user_index = {user: i for i, user in enumerate(uid_list)}\n",
    "    project_index = {project: i for i, project in enumerate(pid_list)}\n",
    "    \n",
    "    num_users = len(uid_list)\n",
    "    num_projects = len(pid_list)\n",
    "    adj_matrix = sp.sparse.lil_matrix((num_users, num_projects))\n",
    "    \n",
    "    for user_id, project_id in G.edges():\n",
    "        user_idx = user_index[user_id]\n",
    "        project_idx = project_index[project_id]\n",
    "        adj_matrix[user_idx, project_idx] = 1\n",
    "        \n",
    "    user_user_matrix = adj_matrix @ adj_matrix.T\n",
    "    user_user_matrix.setdiag(0)  \n",
    "\n",
    "    project_project_matrix = adj_matrix.T @ adj_matrix\n",
    "    project_project_matrix.setdiag(0)  \n",
    "\n",
    "    return user_user_matrix, project_project_matrix\n",
    "    \n",
    "    \n",
    "#     with open('github_data.txt', 'r') as file:    \n",
    "#         for line in file:\n",
    "#             user_id,project_id=map(int,line.strip().split())\n",
    "            \n",
    "#             uid_list.append(user_id)\n",
    "#             pid_list.append(project_id)\n",
    "#             #print(uid_list)\n",
    "#             uid_list =sorted(list(uid_list))\n",
    "#             pid_list= sorted(list(pid_list))\n",
    "#             user_index = uid_list.index(user_id)\n",
    "#             project_index = pid_list.index(project_id)\n",
    "#             adjacency_matrix[user_index, project_index] = 1\n",
    "    \n",
    "#     # Check and remove to ensure there are no edges between nodes of the same type.\n",
    "#     edges_to_remove = [(u, v) for u, v in adj_matrix.edges() if type(u) == type(v)]\n",
    "#     adjacency_maxtrix.remove_edges_from(edges_to_remove)\n",
    "            \n",
    "#     users_projection = adjacency_matrix.dot(adjacency_matrix.T)\n",
    "    \n",
    "#     projects_projection = adjacency_matrix.T.dot(adjacency_matrix)\n",
    "    \n",
    "#     return users_projection, projects_projection"
   ]
  },
  {
   "cell_type": "code",
   "execution_count": 24,
   "id": "8dde8f8c",
   "metadata": {},
   "outputs": [
    {
     "name": "stderr",
     "output_type": "stream",
     "text": [
      "/anaconda3/envs/py_3_12_ds/lib/python3.12/site-packages/scipy/sparse/_index.py:143: SparseEfficiencyWarning: Changing the sparsity structure of a csr_matrix is expensive. lil_matrix is more efficient.\n",
      "  self._set_arrayXarray(i, j, x)\n"
     ]
    }
   ],
   "source": [
    "G_gh, uid_list, pid_list = load_github_data()\n",
    "\n",
    "# 5.2\n",
    "user_matrix, project_matrix = calculate_projections(G_gh, uid_list, pid_list)\n"
   ]
  },
  {
   "cell_type": "markdown",
   "id": "3d471d18",
   "metadata": {},
   "source": [
    "### 5.3"
   ]
  },
  {
   "cell_type": "code",
   "execution_count": 25,
   "id": "2989c836",
   "metadata": {},
   "outputs": [],
   "source": [
    "# Write a function that will return the pair of users that share the highest number of Github projects between them.\n",
    "\n",
    "def get_user_pair(M, uid_list) -> Tuple[str, str]:\n",
    "    \"\"\"\n",
    "    Inputs:\n",
    "    M: projected matrix\n",
    "    uid_list (list): list of users\n",
    "    \n",
    "    Returns:\n",
    "    u1 (str) - first user\n",
    "    u2 (str) - second user\n",
    "    \"\"\"\n",
    "    \"\"\"\n",
    "    M = sp.sparse.csr_matrix(M) \n",
    "    max_value = -1\n",
    "     \n",
    "    n = len(uid_list)\n",
    "    for i in range(n):\n",
    "        for j in range(i + 1, n):  \n",
    "            if M[i, j] > max_value:\n",
    "                max_value = M[i, j]\n",
    "                best_pair_u = uid_list[i], uid_list[j]\n",
    "                u1,u2 = best_pair_u\n",
    "    return u1, u2\n",
    "    \"\"\"\n",
    "    #max_value = np.max(M)\n",
    "    #user_matrix, project_matrix = calculate_projections(G_gh, uid_list, pid_list)\n",
    "    \n",
    "    user_max = np.unravel_index(M.argmax(), M.shape)\n",
    "    \n",
    "    user1 = uid_list[user_max[0]]\n",
    "    user2 = uid_list[user_max[1]]\n",
    "    \n",
    "    return user1, user2\n",
    "    #return users_matrix"
   ]
  },
  {
   "cell_type": "code",
   "execution_count": null,
   "id": "11f8914c",
   "metadata": {},
   "outputs": [],
   "source": []
  },
  {
   "cell_type": "markdown",
   "id": "4c3087df",
   "metadata": {},
   "source": [
    "\n"
   ]
  },
  {
   "cell_type": "markdown",
   "id": "40fb9b85",
   "metadata": {},
   "source": [
    "### 5.4"
   ]
  },
  {
   "cell_type": "code",
   "execution_count": 26,
   "id": "6769ec6e",
   "metadata": {},
   "outputs": [],
   "source": [
    "# Write a function that will return the pair of projects that share the highest number of users between them.\n",
    "def get_project_pair(M, pid_list) -> Tuple[str, str]:\n",
    "    \"\"\"\n",
    "    Inputs:\n",
    "    M: projected matrix\n",
    "    pid_list (list): list of projects\n",
    "    \n",
    "    Returns:\n",
    "    p1 (str) - first project\n",
    "    p2 (str) - second project\n",
    "    \"\"\"\n",
    "    \n",
    "    #max_value = np.max(M)\n",
    "    #indices = np.where(pid_list==max_value)\n",
    "    \n",
    "    #p1 = pid_list[indices[0]]\n",
    "    #p2 = pid_list[indices[1]]\n",
    "    \"\"\"\n",
    "    max_value = -1\n",
    "    M = sp.sparse.csr_matrix(M) \n",
    "    n = len(pid_list)\n",
    "    for i in range(n):\n",
    "        for j in range(i + 1, n):   \n",
    "            if M[i, j] > max_value:\n",
    "                max_value = M[i, j]\n",
    "                best_pair_p = (pid_list[i], pid_list[j]) \n",
    "                p1,p2 = best_pair_p\n",
    "    \n",
    "    return p1, p2\n",
    "    \"\"\"\n",
    "    \n",
    "    project_max = np.unravel_index(M.argmax(), M.shape)\n",
    "    \n",
    "    project1 = pid_list[project_max[0]]\n",
    "    project2 = pid_list[project_max[1]]\n",
    "    \n",
    "    return project1, project2\n"
   ]
  },
  {
   "cell_type": "code",
   "execution_count": 27,
   "id": "346747aa",
   "metadata": {},
   "outputs": [
    {
     "name": "stdout",
     "output_type": "stream",
     "text": [
      "Which users shared the most projects? (17, 299)\n",
      "Which pair of project share the most users? (607, 645)\n"
     ]
    }
   ],
   "source": [
    "# This cell is used to output your data. Do not modify it.\n",
    "\n",
    "# 5.1\n",
    "G_gh, uid_list, pid_list = load_github_data()\n",
    "\n",
    "# 5.2\n",
    "user_matrix, project_matrix = calculate_projections(G_gh, uid_list, pid_list)\n",
    "\n",
    "# 5.3\n",
    "print(\"Which users shared the most projects?\", get_user_pair(user_matrix, uid_list))\n",
    "\n",
    "# 5.4\n",
    "print(\"Which pair of project share the most users?\", get_project_pair(project_matrix, pid_list))"
   ]
  }
 ],
 "metadata": {
  "kernelspec": {
   "display_name": "py_3_12_ds",
   "language": "python",
   "name": "py_3_12_ds"
  },
  "language_info": {
   "codemirror_mode": {
    "name": "ipython",
    "version": 3
   },
   "file_extension": ".py",
   "mimetype": "text/x-python",
   "name": "python",
   "nbconvert_exporter": "python",
   "pygments_lexer": "ipython3",
   "version": "3.12.1"
  }
 },
 "nbformat": 4,
 "nbformat_minor": 5
}
